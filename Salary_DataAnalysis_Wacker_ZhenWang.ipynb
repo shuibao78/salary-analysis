{
 "cells": [
  {
   "cell_type": "code",
   "execution_count": 1,
   "metadata": {
    "scrolled": true
   },
   "outputs": [
    {
     "name": "stdout",
     "output_type": "stream",
     "text": [
      "Populating the interactive namespace from numpy and matplotlib\n"
     ]
    }
   ],
   "source": [
    "%pylab inline\n",
    "%matplotlib inline\n",
    "\n",
    "import numpy as np\n",
    "import pandas as pd\n",
    "import os\n",
    "import seaborn as sns\n",
    "import statsmodels.api as sm\n",
    "import scipy.stats as ss\n",
    "import matplotlib.pyplot as plt\n",
    "from collections import Counter\n",
    "plt.style.use(\"ggplot\")"
   ]
  },
  {
   "cell_type": "code",
   "execution_count": 36,
   "metadata": {},
   "outputs": [],
   "source": [
    "from sklearn.tree import DecisionTreeClassifier, export_graphviz\n",
    "from sklearn.preprocessing import normalize\n",
    "from sklearn.feature_selection import chi2, f_classif\n",
    "from sklearn.linear_model import LogisticRegressionCV, LogisticRegression\n",
    "from sklearn.model_selection import train_test_split, GridSearchCV\n",
    "from sklearn.metrics import classification_report, confusion_matrix,accuracy_score,classification_report,roc_curve,precision_score\n",
    "from sklearn.metrics import recall_score, precision_recall_curve, roc_auc_score,f1_score, average_precision_score"
   ]
  },
  {
   "cell_type": "markdown",
   "metadata": {},
   "source": [
    "# Read in the data file and get an overview on the data set"
   ]
  },
  {
   "cell_type": "code",
   "execution_count": 2,
   "metadata": {
    "scrolled": true
   },
   "outputs": [
    {
     "name": "stdout",
     "output_type": "stream",
     "text": [
      "<class 'pandas.core.frame.DataFrame'>\n",
      "RangeIndex: 32561 entries, 0 to 32560\n",
      "Data columns (total 7 columns):\n",
      "Age               32561 non-null int64\n",
      "workclass         32561 non-null object\n",
      "education         32561 non-null object\n",
      "education-num     32561 non-null int64\n",
      "Race              32561 non-null object\n",
      "Gender            32561 non-null object\n",
      "Salary Bracket    32561 non-null object\n",
      "dtypes: int64(2), object(5)\n",
      "memory usage: 1.7+ MB\n"
     ]
    },
    {
     "data": {
      "text/html": [
       "<div>\n",
       "<style scoped>\n",
       "    .dataframe tbody tr th:only-of-type {\n",
       "        vertical-align: middle;\n",
       "    }\n",
       "\n",
       "    .dataframe tbody tr th {\n",
       "        vertical-align: top;\n",
       "    }\n",
       "\n",
       "    .dataframe thead th {\n",
       "        text-align: right;\n",
       "    }\n",
       "</style>\n",
       "<table border=\"1\" class=\"dataframe\">\n",
       "  <thead>\n",
       "    <tr style=\"text-align: right;\">\n",
       "      <th></th>\n",
       "      <th>Age</th>\n",
       "      <th>workclass</th>\n",
       "      <th>education</th>\n",
       "      <th>education-num</th>\n",
       "      <th>Race</th>\n",
       "      <th>Gender</th>\n",
       "      <th>Salary Bracket</th>\n",
       "    </tr>\n",
       "  </thead>\n",
       "  <tbody>\n",
       "    <tr>\n",
       "      <th>0</th>\n",
       "      <td>39</td>\n",
       "      <td>State-gov</td>\n",
       "      <td>Bachelors</td>\n",
       "      <td>13</td>\n",
       "      <td>White</td>\n",
       "      <td>Male</td>\n",
       "      <td>&lt;=50K</td>\n",
       "    </tr>\n",
       "    <tr>\n",
       "      <th>1</th>\n",
       "      <td>50</td>\n",
       "      <td>Self-emp-not-inc</td>\n",
       "      <td>Bachelors</td>\n",
       "      <td>13</td>\n",
       "      <td>White</td>\n",
       "      <td>Male</td>\n",
       "      <td>&lt;=50K</td>\n",
       "    </tr>\n",
       "    <tr>\n",
       "      <th>2</th>\n",
       "      <td>38</td>\n",
       "      <td>Private</td>\n",
       "      <td>HS-grad</td>\n",
       "      <td>9</td>\n",
       "      <td>White</td>\n",
       "      <td>Male</td>\n",
       "      <td>&lt;=50K</td>\n",
       "    </tr>\n",
       "    <tr>\n",
       "      <th>3</th>\n",
       "      <td>53</td>\n",
       "      <td>Private</td>\n",
       "      <td>11th</td>\n",
       "      <td>7</td>\n",
       "      <td>Black</td>\n",
       "      <td>Male</td>\n",
       "      <td>&lt;=50K</td>\n",
       "    </tr>\n",
       "    <tr>\n",
       "      <th>4</th>\n",
       "      <td>28</td>\n",
       "      <td>Private</td>\n",
       "      <td>Bachelors</td>\n",
       "      <td>13</td>\n",
       "      <td>Black</td>\n",
       "      <td>Female</td>\n",
       "      <td>&lt;=50K</td>\n",
       "    </tr>\n",
       "  </tbody>\n",
       "</table>\n",
       "</div>"
      ],
      "text/plain": [
       "   Age          workclass   education  education-num    Race   Gender  \\\n",
       "0   39          State-gov   Bachelors             13   White     Male   \n",
       "1   50   Self-emp-not-inc   Bachelors             13   White     Male   \n",
       "2   38            Private     HS-grad              9   White     Male   \n",
       "3   53            Private        11th              7   Black     Male   \n",
       "4   28            Private   Bachelors             13   Black   Female   \n",
       "\n",
       "  Salary Bracket  \n",
       "0          <=50K  \n",
       "1          <=50K  \n",
       "2          <=50K  \n",
       "3          <=50K  \n",
       "4          <=50K  "
      ]
     },
     "execution_count": 2,
     "metadata": {},
     "output_type": "execute_result"
    }
   ],
   "source": [
    "df = pd.read_csv('SalaryTrainingData.csv')\n",
    "df.info()\n",
    "df.head()"
   ]
  },
  {
   "cell_type": "markdown",
   "metadata": {},
   "source": [
    "## Check for missing values"
   ]
  },
  {
   "cell_type": "code",
   "execution_count": 3,
   "metadata": {},
   "outputs": [
    {
     "data": {
      "text/plain": [
       "Age               0.0\n",
       "workclass         0.0\n",
       "education         0.0\n",
       "education-num     0.0\n",
       "Race              0.0\n",
       "Gender            0.0\n",
       "Salary Bracket    0.0\n",
       "dtype: float64"
      ]
     },
     "execution_count": 3,
     "metadata": {},
     "output_type": "execute_result"
    }
   ],
   "source": [
    "df.isnull().mean()"
   ]
  },
  {
   "cell_type": "markdown",
   "metadata": {},
   "source": [
    "## There are no missing values in the data but there might be some unknown values. We have two continuous variables 'Age' and 'education-num' which is a numerical variable corresponding to 'education'. Other variables such as 'workclass', 'Race' and 'Gender' are categorical variables. The response variable is 'Salary Bracket'\n"
   ]
  },
  {
   "cell_type": "markdown",
   "metadata": {},
   "source": [
    "## Obtain value counts for categorical variables and summary statistics for continuous variables"
   ]
  },
  {
   "cell_type": "code",
   "execution_count": 5,
   "metadata": {},
   "outputs": [
    {
     "name": "stdout",
     "output_type": "stream",
     "text": [
      "____________\n",
      " Private             0.697030\n",
      " Self-emp-not-inc    0.078038\n",
      " Local-gov           0.064279\n",
      " ?                   0.056386\n",
      " State-gov           0.039864\n",
      " Self-emp-inc        0.034274\n",
      " Federal-gov         0.029483\n",
      " Without-pay         0.000430\n",
      " Never-worked        0.000215\n",
      "Name: workclass, dtype: float64\n",
      "____________\n",
      " HS-grad         0.322502\n",
      " Some-college    0.223918\n",
      " Bachelors       0.164461\n",
      " Masters         0.052916\n",
      " Assoc-voc       0.042443\n",
      " 11th            0.036086\n",
      " Assoc-acdm      0.032769\n",
      " 10th            0.028654\n",
      " 7th-8th         0.019840\n",
      " Prof-school     0.017690\n",
      " 9th             0.015786\n",
      " 12th            0.013298\n",
      " Doctorate       0.012684\n",
      " 5th-6th         0.010227\n",
      " 1st-4th         0.005160\n",
      " Preschool       0.001566\n",
      "Name: education, dtype: float64\n",
      "____________\n",
      " White                 0.854274\n",
      " Black                 0.095943\n",
      " Asian-Pac-Islander    0.031909\n",
      " Amer-Indian-Eskimo    0.009551\n",
      " Other                 0.008323\n",
      "Name: Race, dtype: float64\n",
      "____________\n",
      " Male      0.669205\n",
      " Female    0.330795\n",
      "Name: Gender, dtype: float64\n",
      "____________\n",
      " <=50K    0.75919\n",
      " >50K     0.24081\n",
      "Name: Salary Bracket, dtype: float64\n"
     ]
    }
   ],
   "source": [
    "for col in df.columns:\n",
    "    if df[col].dtypes == \"O\":\n",
    "        print(\"____________\")\n",
    "        print(df[col].value_counts(normalize = True))"
   ]
  },
  {
   "cell_type": "code",
   "execution_count": 6,
   "metadata": {},
   "outputs": [
    {
     "data": {
      "text/html": [
       "<div>\n",
       "<style scoped>\n",
       "    .dataframe tbody tr th:only-of-type {\n",
       "        vertical-align: middle;\n",
       "    }\n",
       "\n",
       "    .dataframe tbody tr th {\n",
       "        vertical-align: top;\n",
       "    }\n",
       "\n",
       "    .dataframe thead th {\n",
       "        text-align: right;\n",
       "    }\n",
       "</style>\n",
       "<table border=\"1\" class=\"dataframe\">\n",
       "  <thead>\n",
       "    <tr style=\"text-align: right;\">\n",
       "      <th></th>\n",
       "      <th>Age</th>\n",
       "      <th>education-num</th>\n",
       "    </tr>\n",
       "  </thead>\n",
       "  <tbody>\n",
       "    <tr>\n",
       "      <th>count</th>\n",
       "      <td>32561.000000</td>\n",
       "      <td>32561.000000</td>\n",
       "    </tr>\n",
       "    <tr>\n",
       "      <th>mean</th>\n",
       "      <td>38.581647</td>\n",
       "      <td>10.080679</td>\n",
       "    </tr>\n",
       "    <tr>\n",
       "      <th>std</th>\n",
       "      <td>13.640433</td>\n",
       "      <td>2.572720</td>\n",
       "    </tr>\n",
       "    <tr>\n",
       "      <th>min</th>\n",
       "      <td>17.000000</td>\n",
       "      <td>1.000000</td>\n",
       "    </tr>\n",
       "    <tr>\n",
       "      <th>25%</th>\n",
       "      <td>28.000000</td>\n",
       "      <td>9.000000</td>\n",
       "    </tr>\n",
       "    <tr>\n",
       "      <th>50%</th>\n",
       "      <td>37.000000</td>\n",
       "      <td>10.000000</td>\n",
       "    </tr>\n",
       "    <tr>\n",
       "      <th>75%</th>\n",
       "      <td>48.000000</td>\n",
       "      <td>12.000000</td>\n",
       "    </tr>\n",
       "    <tr>\n",
       "      <th>max</th>\n",
       "      <td>90.000000</td>\n",
       "      <td>16.000000</td>\n",
       "    </tr>\n",
       "  </tbody>\n",
       "</table>\n",
       "</div>"
      ],
      "text/plain": [
       "                Age  education-num\n",
       "count  32561.000000   32561.000000\n",
       "mean      38.581647      10.080679\n",
       "std       13.640433       2.572720\n",
       "min       17.000000       1.000000\n",
       "25%       28.000000       9.000000\n",
       "50%       37.000000      10.000000\n",
       "75%       48.000000      12.000000\n",
       "max       90.000000      16.000000"
      ]
     },
     "execution_count": 6,
     "metadata": {},
     "output_type": "execute_result"
    }
   ],
   "source": [
    "df.describe()"
   ]
  },
  {
   "cell_type": "markdown",
   "metadata": {},
   "source": [
    "## For 'workclass' and 'education', there are quite a few different classes. We are going to combine some of the small classes together. "
   ]
  },
  {
   "cell_type": "markdown",
   "metadata": {},
   "source": [
    "## Generate some plots to see if there are any differences in  salary for difference groups of people."
   ]
  },
  {
   "cell_type": "code",
   "execution_count": 7,
   "metadata": {},
   "outputs": [
    {
     "data": {
      "image/png": "[encoded data removed]",
      "text/plain": [
       "<Figure size 1008x432 with 2 Axes>"
      ]
     },
     "metadata": {},
     "output_type": "display_data"
    }
   ],
   "source": [
    "var = ['Age', 'education-num']\n",
    "fig, ax = plt.subplots(nrows=1, ncols=2, figsize=(14,6))\n",
    "for i,v in enumerate(var):\n",
    "    \n",
    "#    sns.boxplot(x='y',y='duration',data=bank,ax=ax[i])\n",
    "#    sns.pointplot(x='y', y='duration', data=bank.groupby('y', as_index=False).mean(), ax=ax[i])\n",
    "    sns.boxplot(x='Salary Bracket',y=v,data=df,ax=ax[i])\n",
    "    sns.pointplot(x='Salary Bracket', y=v, data=df.groupby('Salary Bracket', as_index=False).mean(), ax=ax[i])"
   ]
  },
  {
   "cell_type": "markdown",
   "metadata": {},
   "source": [
    "## We can see that for people with >50K salary, the age distribution is larger with mean around 45. And also people with higher education have higher salary. Next we are going to look at the categorical variables to see if different people have different percentage to have >50K salary."
   ]
  },
  {
   "cell_type": "code",
   "execution_count": 14,
   "metadata": {},
   "outputs": [
    {
     "data": {
      "image/png": "[encoded data removed]",
      "text/plain": [
       "<Figure size 1080x576 with 3 Axes>"
      ]
     },
     "metadata": {},
     "output_type": "display_data"
    }
   ],
   "source": [
    "df['L50K'] = [1 if c==' >50K' else 0 for c in df['Salary Bracket']]\n",
    "fig, ax = plt.subplots(nrows=1,ncols=3,figsize = (15,8))\n",
    "\n",
    "for i,col in enumerate(['workclass','Gender', 'Race']):\n",
    "        grouped = df.groupby([col])\n",
    "        tmp = grouped['L50K'].mean().reset_index()\n",
    "        sns.barplot(x='L50K',y=col,ci=None,data = tmp,ax=ax[i])"
   ]
  },
  {
   "cell_type": "markdown",
   "metadata": {},
   "source": [
    "## We can see that 'Self-emp-inc' people have a large percentage of having > 50K salary, although we only have  a small percentage of these people in the data. Also 'Asian-Pac-Islander' and 'White' have a larger percentage of having > 50K salary than other race categories."
   ]
  },
  {
   "cell_type": "code",
   "execution_count": 57,
   "metadata": {},
   "outputs": [],
   "source": [
    "var_all = df.columns\n",
    "X = pd.get_dummies(df,columns=['workclass','Gender','Race','education'])"
   ]
  },
  {
   "cell_type": "code",
   "execution_count": 58,
   "metadata": {
    "scrolled": true
   },
   "outputs": [
    {
     "data": {
      "text/html": [
       "<div>\n",
       "<style scoped>\n",
       "    .dataframe tbody tr th:only-of-type {\n",
       "        vertical-align: middle;\n",
       "    }\n",
       "\n",
       "    .dataframe tbody tr th {\n",
       "        vertical-align: top;\n",
       "    }\n",
       "\n",
       "    .dataframe thead th {\n",
       "        text-align: right;\n",
       "    }\n",
       "</style>\n",
       "<table border=\"1\" class=\"dataframe\">\n",
       "  <thead>\n",
       "    <tr style=\"text-align: right;\">\n",
       "      <th></th>\n",
       "      <th>Age</th>\n",
       "      <th>education-num</th>\n",
       "      <th>Salary Bracket</th>\n",
       "      <th>L50K</th>\n",
       "      <th>workclass_ ?</th>\n",
       "      <th>workclass_ Federal-gov</th>\n",
       "      <th>workclass_ Local-gov</th>\n",
       "      <th>workclass_ Never-worked</th>\n",
       "      <th>workclass_ Private</th>\n",
       "      <th>workclass_ Self-emp-inc</th>\n",
       "      <th>...</th>\n",
       "      <th>education_ 9th</th>\n",
       "      <th>education_ Assoc-acdm</th>\n",
       "      <th>education_ Assoc-voc</th>\n",
       "      <th>education_ Bachelors</th>\n",
       "      <th>education_ Doctorate</th>\n",
       "      <th>education_ HS-grad</th>\n",
       "      <th>education_ Masters</th>\n",
       "      <th>education_ Preschool</th>\n",
       "      <th>education_ Prof-school</th>\n",
       "      <th>education_ Some-college</th>\n",
       "    </tr>\n",
       "  </thead>\n",
       "  <tbody>\n",
       "    <tr>\n",
       "      <th>0</th>\n",
       "      <td>39</td>\n",
       "      <td>13</td>\n",
       "      <td>&lt;=50K</td>\n",
       "      <td>0</td>\n",
       "      <td>0</td>\n",
       "      <td>0</td>\n",
       "      <td>0</td>\n",
       "      <td>0</td>\n",
       "      <td>0</td>\n",
       "      <td>0</td>\n",
       "      <td>...</td>\n",
       "      <td>0</td>\n",
       "      <td>0</td>\n",
       "      <td>0</td>\n",
       "      <td>1</td>\n",
       "      <td>0</td>\n",
       "      <td>0</td>\n",
       "      <td>0</td>\n",
       "      <td>0</td>\n",
       "      <td>0</td>\n",
       "      <td>0</td>\n",
       "    </tr>\n",
       "    <tr>\n",
       "      <th>1</th>\n",
       "      <td>50</td>\n",
       "      <td>13</td>\n",
       "      <td>&lt;=50K</td>\n",
       "      <td>0</td>\n",
       "      <td>0</td>\n",
       "      <td>0</td>\n",
       "      <td>0</td>\n",
       "      <td>0</td>\n",
       "      <td>0</td>\n",
       "      <td>0</td>\n",
       "      <td>...</td>\n",
       "      <td>0</td>\n",
       "      <td>0</td>\n",
       "      <td>0</td>\n",
       "      <td>1</td>\n",
       "      <td>0</td>\n",
       "      <td>0</td>\n",
       "      <td>0</td>\n",
       "      <td>0</td>\n",
       "      <td>0</td>\n",
       "      <td>0</td>\n",
       "    </tr>\n",
       "    <tr>\n",
       "      <th>2</th>\n",
       "      <td>38</td>\n",
       "      <td>9</td>\n",
       "      <td>&lt;=50K</td>\n",
       "      <td>0</td>\n",
       "      <td>0</td>\n",
       "      <td>0</td>\n",
       "      <td>0</td>\n",
       "      <td>0</td>\n",
       "      <td>1</td>\n",
       "      <td>0</td>\n",
       "      <td>...</td>\n",
       "      <td>0</td>\n",
       "      <td>0</td>\n",
       "      <td>0</td>\n",
       "      <td>0</td>\n",
       "      <td>0</td>\n",
       "      <td>1</td>\n",
       "      <td>0</td>\n",
       "      <td>0</td>\n",
       "      <td>0</td>\n",
       "      <td>0</td>\n",
       "    </tr>\n",
       "    <tr>\n",
       "      <th>3</th>\n",
       "      <td>53</td>\n",
       "      <td>7</td>\n",
       "      <td>&lt;=50K</td>\n",
       "      <td>0</td>\n",
       "      <td>0</td>\n",
       "      <td>0</td>\n",
       "      <td>0</td>\n",
       "      <td>0</td>\n",
       "      <td>1</td>\n",
       "      <td>0</td>\n",
       "      <td>...</td>\n",
       "      <td>0</td>\n",
       "      <td>0</td>\n",
       "      <td>0</td>\n",
       "      <td>0</td>\n",
       "      <td>0</td>\n",
       "      <td>0</td>\n",
       "      <td>0</td>\n",
       "      <td>0</td>\n",
       "      <td>0</td>\n",
       "      <td>0</td>\n",
       "    </tr>\n",
       "    <tr>\n",
       "      <th>4</th>\n",
       "      <td>28</td>\n",
       "      <td>13</td>\n",
       "      <td>&lt;=50K</td>\n",
       "      <td>0</td>\n",
       "      <td>0</td>\n",
       "      <td>0</td>\n",
       "      <td>0</td>\n",
       "      <td>0</td>\n",
       "      <td>1</td>\n",
       "      <td>0</td>\n",
       "      <td>...</td>\n",
       "      <td>0</td>\n",
       "      <td>0</td>\n",
       "      <td>0</td>\n",
       "      <td>1</td>\n",
       "      <td>0</td>\n",
       "      <td>0</td>\n",
       "      <td>0</td>\n",
       "      <td>0</td>\n",
       "      <td>0</td>\n",
       "      <td>0</td>\n",
       "    </tr>\n",
       "  </tbody>\n",
       "</table>\n",
       "<p>5 rows × 36 columns</p>\n",
       "</div>"
      ],
      "text/plain": [
       "   Age  education-num Salary Bracket  L50K  workclass_ ?  \\\n",
       "0   39             13          <=50K     0             0   \n",
       "1   50             13          <=50K     0             0   \n",
       "2   38              9          <=50K     0             0   \n",
       "3   53              7          <=50K     0             0   \n",
       "4   28             13          <=50K     0             0   \n",
       "\n",
       "   workclass_ Federal-gov  workclass_ Local-gov  workclass_ Never-worked  \\\n",
       "0                       0                     0                        0   \n",
       "1                       0                     0                        0   \n",
       "2                       0                     0                        0   \n",
       "3                       0                     0                        0   \n",
       "4                       0                     0                        0   \n",
       "\n",
       "   workclass_ Private  workclass_ Self-emp-inc           ...             \\\n",
       "0                   0                        0           ...              \n",
       "1                   0                        0           ...              \n",
       "2                   1                        0           ...              \n",
       "3                   1                        0           ...              \n",
       "4                   1                        0           ...              \n",
       "\n",
       "   education_ 9th  education_ Assoc-acdm  education_ Assoc-voc  \\\n",
       "0               0                      0                     0   \n",
       "1               0                      0                     0   \n",
       "2               0                      0                     0   \n",
       "3               0                      0                     0   \n",
       "4               0                      0                     0   \n",
       "\n",
       "   education_ Bachelors  education_ Doctorate  education_ HS-grad  \\\n",
       "0                     1                     0                   0   \n",
       "1                     1                     0                   0   \n",
       "2                     0                     0                   1   \n",
       "3                     0                     0                   0   \n",
       "4                     1                     0                   0   \n",
       "\n",
       "   education_ Masters  education_ Preschool  education_ Prof-school  \\\n",
       "0                   0                     0                       0   \n",
       "1                   0                     0                       0   \n",
       "2                   0                     0                       0   \n",
       "3                   0                     0                       0   \n",
       "4                   0                     0                       0   \n",
       "\n",
       "   education_ Some-college  \n",
       "0                        0  \n",
       "1                        0  \n",
       "2                        0  \n",
       "3                        0  \n",
       "4                        0  \n",
       "\n",
       "[5 rows x 36 columns]"
      ]
     },
     "execution_count": 58,
     "metadata": {},
     "output_type": "execute_result"
    }
   ],
   "source": [
    "X.head()"
   ]
  },
  {
   "cell_type": "code",
   "execution_count": 59,
   "metadata": {
    "scrolled": true
   },
   "outputs": [
    {
     "data": {
      "text/plain": [
       "Index(['Age', 'education-num', 'Salary Bracket', 'L50K', 'workclass_ ?',\n",
       "       'workclass_ Federal-gov', 'workclass_ Local-gov',\n",
       "       'workclass_ Never-worked', 'workclass_ Private',\n",
       "       'workclass_ Self-emp-inc', 'workclass_ Self-emp-not-inc',\n",
       "       'workclass_ State-gov', 'workclass_ Without-pay', 'Gender_ Female',\n",
       "       'Gender_ Male', 'Race_ Amer-Indian-Eskimo', 'Race_ Asian-Pac-Islander',\n",
       "       'Race_ Black', 'Race_ Other', 'Race_ White', 'education_ 10th',\n",
       "       'education_ 11th', 'education_ 12th', 'education_ 1st-4th',\n",
       "       'education_ 5th-6th', 'education_ 7th-8th', 'education_ 9th',\n",
       "       'education_ Assoc-acdm', 'education_ Assoc-voc', 'education_ Bachelors',\n",
       "       'education_ Doctorate', 'education_ HS-grad', 'education_ Masters',\n",
       "       'education_ Preschool', 'education_ Prof-school',\n",
       "       'education_ Some-college'],\n",
       "      dtype='object')"
      ]
     },
     "execution_count": 59,
     "metadata": {},
     "output_type": "execute_result"
    }
   ],
   "source": [
    "X.columns"
   ]
  },
  {
   "cell_type": "markdown",
   "metadata": {},
   "source": [
    "## Fit Random Forest to performance variable selection and also to check the performance of the logistic regression. The hyper-parameters were tuned by a grid search."
   ]
  },
  {
   "cell_type": "code",
   "execution_count": 60,
   "metadata": {},
   "outputs": [],
   "source": [
    "from sklearn.model_selection import train_test_split, GridSearchCV"
   ]
  },
  {
   "cell_type": "code",
   "execution_count": 61,
   "metadata": {},
   "outputs": [],
   "source": [
    "# Split the data set into train data and test data\n",
    "allX = X.drop(['Salary Bracket'],axis=1)\n",
    "var_select = ['Age', \n",
    "       'workclass_ Federal-gov', 'workclass_ Local-gov',\n",
    "       'workclass_ Never-worked', 'workclass_ Private',\n",
    "       'workclass_ Self-emp-inc', 'workclass_ Self-emp-not-inc',\n",
    "       'workclass_ State-gov', 'workclass_ Without-pay', 'Gender_ Female',\n",
    "       'Gender_ Male', 'Race_ Amer-Indian-Eskimo', 'Race_ Asian-Pac-Islander',\n",
    "       'Race_ Black', 'Race_ Other', 'Race_ White', 'education_ 10th',\n",
    "       'education_ 11th', 'education_ 12th', 'education_ 1st-4th',\n",
    "       'education_ 5th-6th', 'education_ 7th-8th', 'education_ 9th',\n",
    "       'education_ Assoc-acdm', 'education_ Assoc-voc', 'education_ Bachelors',\n",
    "       'education_ Doctorate', 'education_ HS-grad', 'education_ Masters',\n",
    "       'education_ Preschool', 'education_ Prof-school',\n",
    "       'education_ Some-college']\n",
    "X = allX.loc[:,var_select]\n",
    "y = df['L50K']\n",
    "X_train, X_test, y_train, y_test = train_test_split(X, y, test_size=0.2, random_state=42)"
   ]
  },
  {
   "cell_type": "code",
   "execution_count": 62,
   "metadata": {},
   "outputs": [],
   "source": [
    "def Model_summary(y, probs, yhat):\n",
    "    # calculate roc curve\n",
    "    fpr, tpr, thresholds = roc_curve(y, probs)\n",
    "    # calculate AUC\n",
    "    auc = roc_auc_score(y, probs)\n",
    "    print('AUC: %.3f' % auc)\n",
    "\n",
    "    # plot no skill\n",
    "    pyplot.plot([0, 1], [0, 1], linestyle='--')\n",
    "    # plot the roc curve for the model\n",
    "    pyplot.plot(fpr, tpr, marker='.')\n",
    "    # show the plot\n",
    "    pyplot.show()\n",
    "\n",
    "    # calculate precision-recall curve\n",
    "    precision, recall, thresholds = precision_recall_curve(y, probs)\n",
    "\n",
    "    #calculate F1 score\n",
    "    f1 = f1_score(y, yhat)\n",
    "\n",
    "    # calculate precision-recall AUC\n",
    "    #auc = auc(recall, precision)\n",
    "    # calculate average precision score\n",
    "    ap = average_precision_score(y, probs)\n",
    "    # print('f1=%.3f auc=%.3f ap=%.3f' % (f1, auc, ap))\n",
    "    print('f1=%.3f ap=%.3f' % (f1, ap))\n",
    "    print(classification_report(y,yhat))\n",
    "    # plot no skill\n",
    "    pyplot.plot([0, 1], [0.5, 0.5], linestyle='--')\n",
    "    # plot the roc curve for the model\n",
    "    pyplot.plot(recall, precision, marker='.')\n",
    "    # show the plot\n",
    "    pyplot.show()"
   ]
  },
  {
   "cell_type": "code",
   "execution_count": 63,
   "metadata": {},
   "outputs": [
    {
     "name": "stdout",
     "output_type": "stream",
     "text": [
      "AUC: 0.811\n"
     ]
    },
    {
     "data": {
      "image/png": "[encoded data removed]",
      "text/plain": [
       "<Figure size 432x288 with 1 Axes>"
      ]
     },
     "metadata": {},
     "output_type": "display_data"
    },
    {
     "name": "stdout",
     "output_type": "stream",
     "text": [
      "f1=0.538 ap=0.571\n",
      "              precision    recall  f1-score   support\n",
      "\n",
      "           0       0.92      0.60      0.72      4942\n",
      "           1       0.40      0.83      0.54      1571\n",
      "\n",
      "   micro avg       0.65      0.65      0.65      6513\n",
      "   macro avg       0.66      0.72      0.63      6513\n",
      "weighted avg       0.79      0.65      0.68      6513\n",
      "\n"
     ]
    },
    {
     "data": {
      "image/png": "[encoded data removed]",
      "text/plain": [
       "<Figure size 432x288 with 1 Axes>"
      ]
     },
     "metadata": {},
     "output_type": "display_data"
    },
    {
     "name": "stdout",
     "output_type": "stream",
     "text": [
      "AUC: 0.808\n"
     ]
    },
    {
     "data": {
      "image/png": "[encoded data removed]",
      "text/plain": [
       "<Figure size 432x288 with 1 Axes>"
      ]
     },
     "metadata": {},
     "output_type": "display_data"
    },
    {
     "name": "stdout",
     "output_type": "stream",
     "text": [
      "f1=0.539 ap=0.568\n",
      "              precision    recall  f1-score   support\n",
      "\n",
      "           0       0.92      0.61      0.73     19778\n",
      "           1       0.40      0.83      0.54      6270\n",
      "\n",
      "   micro avg       0.66      0.66      0.66     26048\n",
      "   macro avg       0.66      0.72      0.63     26048\n",
      "weighted avg       0.79      0.66      0.68     26048\n",
      "\n"
     ]
    },
    {
     "data": {
      "image/png": "[encoded data removed]",
      "text/plain": [
       "<Figure size 432x288 with 1 Axes>"
      ]
     },
     "metadata": {},
     "output_type": "display_data"
    }
   ],
   "source": [
    "from sklearn.ensemble import RandomForestClassifier\n",
    "clf = RandomForestClassifier(n_estimators=50, random_state=0, max_depth = 3, \\\n",
    "                             min_samples_split = 5, min_samples_leaf =5, class_weight='balanced')\n",
    "clf.fit(X_train, y_train)\n",
    "y_train_predict_prob = clf.predict_proba(X_train)\n",
    "y_train_predict = clf.predict(X_train)\n",
    "\n",
    "y_test_predict_prob = clf.predict_proba(X_test)\n",
    "y_test_predict = clf.predict(X_test)\n",
    "\n",
    "Model_summary(y_test, y_test_predict_prob[:,1], y_test_predict)\n",
    "Model_summary(y_train, y_train_predict_prob[:,1], y_train_predict)"
   ]
  },
  {
   "cell_type": "code",
   "execution_count": 64,
   "metadata": {
    "scrolled": true
   },
   "outputs": [
    {
     "data": {
      "text/html": [
       "<div>\n",
       "<style scoped>\n",
       "    .dataframe tbody tr th:only-of-type {\n",
       "        vertical-align: middle;\n",
       "    }\n",
       "\n",
       "    .dataframe tbody tr th {\n",
       "        vertical-align: top;\n",
       "    }\n",
       "\n",
       "    .dataframe thead th {\n",
       "        text-align: right;\n",
       "    }\n",
       "</style>\n",
       "<table border=\"1\" class=\"dataframe\">\n",
       "  <thead>\n",
       "    <tr style=\"text-align: right;\">\n",
       "      <th></th>\n",
       "      <th>importance</th>\n",
       "      <th>name</th>\n",
       "    </tr>\n",
       "  </thead>\n",
       "  <tbody>\n",
       "    <tr>\n",
       "      <th>0</th>\n",
       "      <td>0.297723</td>\n",
       "      <td>Age</td>\n",
       "    </tr>\n",
       "    <tr>\n",
       "      <th>10</th>\n",
       "      <td>0.137352</td>\n",
       "      <td>Gender_ Male</td>\n",
       "    </tr>\n",
       "    <tr>\n",
       "      <th>9</th>\n",
       "      <td>0.109610</td>\n",
       "      <td>Gender_ Female</td>\n",
       "    </tr>\n",
       "    <tr>\n",
       "      <th>28</th>\n",
       "      <td>0.095265</td>\n",
       "      <td>education_ Masters</td>\n",
       "    </tr>\n",
       "    <tr>\n",
       "      <th>25</th>\n",
       "      <td>0.083431</td>\n",
       "      <td>education_ Bachelors</td>\n",
       "    </tr>\n",
       "    <tr>\n",
       "      <th>30</th>\n",
       "      <td>0.081133</td>\n",
       "      <td>education_ Prof-school</td>\n",
       "    </tr>\n",
       "    <tr>\n",
       "      <th>27</th>\n",
       "      <td>0.059941</td>\n",
       "      <td>education_ HS-grad</td>\n",
       "    </tr>\n",
       "    <tr>\n",
       "      <th>5</th>\n",
       "      <td>0.028010</td>\n",
       "      <td>workclass_ Self-emp-inc</td>\n",
       "    </tr>\n",
       "    <tr>\n",
       "      <th>15</th>\n",
       "      <td>0.023824</td>\n",
       "      <td>Race_ White</td>\n",
       "    </tr>\n",
       "    <tr>\n",
       "      <th>26</th>\n",
       "      <td>0.019579</td>\n",
       "      <td>education_ Doctorate</td>\n",
       "    </tr>\n",
       "    <tr>\n",
       "      <th>13</th>\n",
       "      <td>0.019153</td>\n",
       "      <td>Race_ Black</td>\n",
       "    </tr>\n",
       "    <tr>\n",
       "      <th>17</th>\n",
       "      <td>0.015639</td>\n",
       "      <td>education_ 11th</td>\n",
       "    </tr>\n",
       "    <tr>\n",
       "      <th>4</th>\n",
       "      <td>0.009302</td>\n",
       "      <td>workclass_ Private</td>\n",
       "    </tr>\n",
       "    <tr>\n",
       "      <th>16</th>\n",
       "      <td>0.005484</td>\n",
       "      <td>education_ 10th</td>\n",
       "    </tr>\n",
       "    <tr>\n",
       "      <th>21</th>\n",
       "      <td>0.004489</td>\n",
       "      <td>education_ 7th-8th</td>\n",
       "    </tr>\n",
       "    <tr>\n",
       "      <th>22</th>\n",
       "      <td>0.003188</td>\n",
       "      <td>education_ 9th</td>\n",
       "    </tr>\n",
       "    <tr>\n",
       "      <th>1</th>\n",
       "      <td>0.002087</td>\n",
       "      <td>workclass_ Federal-gov</td>\n",
       "    </tr>\n",
       "    <tr>\n",
       "      <th>31</th>\n",
       "      <td>0.001413</td>\n",
       "      <td>education_ Some-college</td>\n",
       "    </tr>\n",
       "    <tr>\n",
       "      <th>20</th>\n",
       "      <td>0.000981</td>\n",
       "      <td>education_ 5th-6th</td>\n",
       "    </tr>\n",
       "    <tr>\n",
       "      <th>2</th>\n",
       "      <td>0.000860</td>\n",
       "      <td>workclass_ Local-gov</td>\n",
       "    </tr>\n",
       "  </tbody>\n",
       "</table>\n",
       "</div>"
      ],
      "text/plain": [
       "    importance                     name\n",
       "0     0.297723                      Age\n",
       "10    0.137352             Gender_ Male\n",
       "9     0.109610           Gender_ Female\n",
       "28    0.095265       education_ Masters\n",
       "25    0.083431     education_ Bachelors\n",
       "30    0.081133   education_ Prof-school\n",
       "27    0.059941       education_ HS-grad\n",
       "5     0.028010  workclass_ Self-emp-inc\n",
       "15    0.023824              Race_ White\n",
       "26    0.019579     education_ Doctorate\n",
       "13    0.019153              Race_ Black\n",
       "17    0.015639          education_ 11th\n",
       "4     0.009302       workclass_ Private\n",
       "16    0.005484          education_ 10th\n",
       "21    0.004489       education_ 7th-8th\n",
       "22    0.003188           education_ 9th\n",
       "1     0.002087   workclass_ Federal-gov\n",
       "31    0.001413  education_ Some-college\n",
       "20    0.000981       education_ 5th-6th\n",
       "2     0.000860     workclass_ Local-gov"
      ]
     },
     "execution_count": 64,
     "metadata": {},
     "output_type": "execute_result"
    }
   ],
   "source": [
    "feature_importance = pd.DataFrame(clf.feature_importances_)\n",
    "feature_importance['name'] = X_train.columns\n",
    "feature_importance.rename(columns = {0:'importance'}).sort_values(by='importance',ascending=False).head(n=20)"
   ]
  },
  {
   "cell_type": "markdown",
   "metadata": {},
   "source": [
    "## We can see from the feature importance of the model from RandomForest, important variables are very consistent from what we have seen from the charts earlier. I am going to fit a logistic regression model using these variables. Education-num was used as a continuous variable for simplicity. We could try using different education levels as categorical variables as well."
   ]
  },
  {
   "cell_type": "code",
   "execution_count": 66,
   "metadata": {
    "scrolled": true
   },
   "outputs": [
    {
     "name": "stdout",
     "output_type": "stream",
     "text": [
      "Optimization terminated successfully.\n",
      "         Current function value: 0.436798\n",
      "         Iterations 7\n",
      "                           Logit Regression Results                           \n",
      "==============================================================================\n",
      "Dep. Variable:                   L50K   No. Observations:                32561\n",
      "Model:                          Logit   Df Residuals:                    32553\n",
      "Method:                           MLE   Df Model:                            7\n",
      "Date:                Wed, 12 Jun 2019   Pseudo R-squ.:                  0.2087\n",
      "Time:                        17:00:33   Log-Likelihood:                -14223.\n",
      "converged:                       True   LL-Null:                       -17974.\n",
      "                                        LLR p-value:                     0.000\n",
      "============================================================================================\n",
      "                               coef    std err          z      P>|z|      [0.025      0.975]\n",
      "--------------------------------------------------------------------------------------------\n",
      "const                       -8.3236      0.116    -71.534      0.000      -8.552      -8.096\n",
      "Age                          0.0426      0.001     36.522      0.000       0.040       0.045\n",
      "workclass_ Self-emp-inc      0.9931      0.074     13.382      0.000       0.848       1.139\n",
      "workclass_ Private           0.2280      0.034      6.672      0.000       0.161       0.295\n",
      "Gender_ Male                 1.2700      0.037     34.249      0.000       1.197       1.343\n",
      "Race_ Asian-Pac-Islander     0.2216      0.098      2.258      0.024       0.029       0.414\n",
      "Race_ White                  0.4528      0.057      7.929      0.000       0.341       0.565\n",
      "education-num                0.3686      0.007     55.240      0.000       0.356       0.382\n",
      "============================================================================================\n"
     ]
    }
   ],
   "source": [
    "var_select = ['Age','workclass_ Self-emp-inc', 'workclass_ Private', 'Gender_ Male', 'Race_ Asian-Pac-Islander', 'Race_ White', 'education-num']\n",
    "newX = allX.loc[:,var_select]\n",
    "newy = df['L50K']\n",
    "\n",
    "import statsmodels.api as sm\n",
    "from scipy import stats\n",
    "\n",
    "X2 = sm.add_constant(newX)\n",
    "est = sm.Logit(newy, X2)\n",
    "est2 = est.fit()\n",
    "print(est2.summary())"
   ]
  },
  {
   "cell_type": "markdown",
   "metadata": {},
   "source": [
    "## The model above is the one that I selected. The model fit would be better using RandomForest or Gradient boosting. However, logistic regression model offers a simpler model interpretation. We can see that older people have higher salaries. And also people with higher education have higher salary. We can see that 'Self-emp-inc' people have a large percentage of having > 50K salary, although we only have  a small percentage of these people in the data. Also 'Asian-Pac-Islander' and 'White' have a larger percentage of having > 50K salary than other race categories."
   ]
  },
  {
   "cell_type": "code",
   "execution_count": null,
   "metadata": {},
   "outputs": [],
   "source": []
  }
 ],
 "metadata": {
  "kernelspec": {
   "display_name": "Python 3",
   "language": "python",
   "name": "python3"
  },
  "language_info": {
   "codemirror_mode": {
    "name": "ipython",
    "version": 3
   },
   "file_extension": ".py",
   "mimetype": "text/x-python",
   "name": "python",
   "nbconvert_exporter": "python",
   "pygments_lexer": "ipython3",
   "version": "3.6.5"
  }
 },
 "nbformat": 4,
 "nbformat_minor": 2
}
